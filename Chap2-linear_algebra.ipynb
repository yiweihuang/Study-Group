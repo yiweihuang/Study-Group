{
 "cells": [
  {
   "cell_type": "markdown",
   "metadata": {},
   "source": [
    "# Transpose Matrix"
   ]
  },
  {
   "cell_type": "code",
   "execution_count": 5,
   "metadata": {},
   "outputs": [
    {
     "name": "stdout",
     "output_type": "stream",
     "text": [
      "AB is\n",
      "[[ 58  64]\n",
      " [139 154]]\n",
      "The transpose of AB is\n",
      "[[ 58 139]\n",
      " [ 64 154]]\n",
      "The transpose of B is\n",
      "[[ 7  9 11]\n",
      " [ 8 10 12]]\n",
      "The transpose of A is\n",
      "[[1 4]\n",
      " [2 5]\n",
      " [3 6]]\n",
      "\n",
      "Proof:\n",
      "The transpose of AB is\n",
      "[[ 58 139]\n",
      " [ 64 154]]\n"
     ]
    }
   ],
   "source": [
    "import numpy as np\n",
    "A = np.array([(1,2,3), (4,5,6)])\n",
    "B = np.array([(7,8), (9,10), (11,12)])\n",
    "print \"AB is\"\n",
    "print A.dot(B)\n",
    "\n",
    "AB = A.dot(B)\n",
    "AB_trans = AB.transpose()\n",
    "print \"The transpose of AB is\"\n",
    "print AB_trans\n",
    "\n",
    "B_trans = B.transpose()\n",
    "A_trans = A.transpose()\n",
    "print \"The transpose of B is\"\n",
    "print B_trans\n",
    "print \"The transpose of A is\"\n",
    "print A_trans\n",
    "\n",
    "print \"\\nProof:\"\n",
    "print \"The transpose of AB is\"\n",
    "Bt_dot_At = B_trans.dot(A_trans)\n",
    "print Bt_dot_At"
   ]
  },
  {
   "cell_type": "markdown",
   "metadata": {},
   "source": [
    "# Matrix Inversion"
   ]
  },
  {
   "cell_type": "code",
   "execution_count": 6,
   "metadata": {},
   "outputs": [
    {
     "name": "stdout",
     "output_type": "stream",
     "text": [
      "[[-2.5  1.5]\n",
      " [ 2.  -1. ]]\n"
     ]
    }
   ],
   "source": [
    "import numpy as np\n",
    "b = np.array([[2,3],[4,5]])\n",
    "print np.linalg.inv(b)"
   ]
  },
  {
   "cell_type": "markdown",
   "metadata": {},
   "source": [
    "# Norms"
   ]
  },
  {
   "cell_type": "code",
   "execution_count": 1,
   "metadata": {
    "collapsed": true
   },
   "outputs": [],
   "source": [
    "import pylab\n",
    "from numpy import array, linalg, random, sqrt, inf\n",
    "\n",
    "def plotUnitCircle(p):\n",
    " \"\"\" plot some 2D vectors with p-norm < 1 \"\"\"\n",
    " for i in range(5000):\n",
    "  x = array([random.rand()*2-1,random.rand()*2-1])\n",
    "  if linalg.norm(x,p) < 1:\n",
    "   pylab.plot(x[0],x[1],'bo')\n",
    " pylab.axis([-1.5, 1.5, -1.5, 1.5])\n",
    " pylab.show()"
   ]
  },
  {
   "cell_type": "code",
   "execution_count": 2,
   "metadata": {},
   "outputs": [
    {
     "data": {
      "image/png": "[encoded data removed]",
      "text/plain": [
       "<matplotlib.figure.Figure at 0x110f98550>"
      ]
     },
     "metadata": {},
     "output_type": "display_data"
    }
   ],
   "source": [
    "plotUnitCircle(1)"
   ]
  },
  {
   "cell_type": "code",
   "execution_count": 3,
   "metadata": {},
   "outputs": [
    {
     "data": {
      "image/png": "[encoded data removed]",
      "text/plain": [
       "<matplotlib.figure.Figure at 0x110eee190>"
      ]
     },
     "metadata": {},
     "output_type": "display_data"
    }
   ],
   "source": [
    "plotUnitCircle(2)"
   ]
  },
  {
   "cell_type": "code",
   "execution_count": 4,
   "metadata": {},
   "outputs": [
    {
     "data": {
      "image/png": "[encoded data removed]",
      "text/plain": [
       "<matplotlib.figure.Figure at 0x1200e8a10>"
      ]
     },
     "metadata": {},
     "output_type": "display_data"
    }
   ],
   "source": [
    "plotUnitCircle(inf)"
   ]
  },
  {
   "cell_type": "markdown",
   "metadata": {
    "collapsed": true
   },
   "source": [
    "# Diagonal matrices"
   ]
  },
  {
   "cell_type": "code",
   "execution_count": 7,
   "metadata": {},
   "outputs": [
    {
     "name": "stdout",
     "output_type": "stream",
     "text": [
      "[[1 0 0]\n",
      " [0 2 0]\n",
      " [0 0 3]]\n",
      "[[ 1.          0.          0.        ]\n",
      " [ 0.          0.5         0.        ]\n",
      " [ 0.          0.          0.33333333]]\n"
     ]
    }
   ],
   "source": [
    "import numpy as np\n",
    "dia = np.diag((1,2,3))\n",
    "print dia\n",
    "print np.linalg.inv(dia)"
   ]
  },
  {
   "cell_type": "markdown",
   "metadata": {},
   "source": [
    "# A is taller than it is wide"
   ]
  },
  {
   "cell_type": "code",
   "execution_count": 9,
   "metadata": {},
   "outputs": [
    {
     "name": "stdout",
     "output_type": "stream",
     "text": [
      "[[1 0 0]\n",
      " [0 2 0]\n",
      " [0 0 3]\n",
      " [0 0 0]]\n",
      "[[ 4]\n",
      " [10]\n",
      " [18]\n",
      " [ 0]]\n"
     ]
    }
   ],
   "source": [
    "import numpy as np\n",
    "A = np.array([(1,0,0), (0,2,0), (0,0,3), (0,0,0)])\n",
    "x = np.array([(4, 5, 6)])\n",
    "print A\n",
    "print A.dot(x.transpose())"
   ]
  },
  {
   "cell_type": "markdown",
   "metadata": {},
   "source": [
    "# A is wider than it is tall"
   ]
  },
  {
   "cell_type": "code",
   "execution_count": 12,
   "metadata": {},
   "outputs": [
    {
     "name": "stdout",
     "output_type": "stream",
     "text": [
      "[[1 0 0 0]\n",
      " [0 2 0 0]\n",
      " [0 0 3 0]]\n",
      "[[ 4]\n",
      " [10]\n",
      " [18]]\n"
     ]
    }
   ],
   "source": [
    "import numpy as np\n",
    "A = np.array([(1,0,0,0), (0,2,0,0), (0,0,3,0)])\n",
    "x = np.array([(4, 5, 6, 7)])\n",
    "print A\n",
    "print A.dot(x.transpose())"
   ]
  },
  {
   "cell_type": "markdown",
   "metadata": {
    "collapsed": true
   },
   "source": [
    "# Orthogonal matrix "
   ]
  },
  {
   "cell_type": "code",
   "execution_count": 11,
   "metadata": {},
   "outputs": [
    {
     "name": "stdout",
     "output_type": "stream",
     "text": [
      "[[ 0.46253719 -0.44217519 -0.7684663 ]\n",
      " [-0.88012406 -0.12442833 -0.4581476 ]\n",
      " [-0.10696252 -0.88825598  0.44672176]]\n",
      "-----------------\n",
      "[[  1.00000000e+00   0.00000000e+00   1.11022302e-16]\n",
      " [  0.00000000e+00   1.00000000e+00   5.55111512e-17]\n",
      " [  1.11022302e-16   5.55111512e-17   1.00000000e+00]]\n",
      "[[  1.00000000e+00   1.38777878e-17   3.46944695e-17]\n",
      " [  1.38777878e-17   1.00000000e+00   1.11022302e-16]\n",
      " [  3.46944695e-17   1.11022302e-16   1.00000000e+00]]\n",
      "------------------\n",
      "[[ 0.46253719 -0.88012406 -0.10696252]\n",
      " [-0.44217519 -0.12442833 -0.88825598]\n",
      " [-0.7684663  -0.4581476   0.44672176]]\n",
      "[[ 0.46253719 -0.88012406 -0.10696252]\n",
      " [-0.44217519 -0.12442833 -0.88825598]\n",
      " [-0.7684663  -0.4581476   0.44672176]]\n"
     ]
    }
   ],
   "source": [
    "from scipy.stats import ortho_group\n",
    "m = ortho_group.rvs(dim=3)\n",
    "print(m)\n",
    "print \"-----------------\"\n",
    "print(m.dot(m.T))\n",
    "print(m.T.dot(m))\n",
    "print \"------------------\"\n",
    "import numpy as np\n",
    "print m.T\n",
    "print np.linalg.inv(m)"
   ]
  },
  {
   "cell_type": "markdown",
   "metadata": {
    "collapsed": true
   },
   "source": [
    "# Find eigenvalues/vectors"
   ]
  },
  {
   "cell_type": "code",
   "execution_count": 13,
   "metadata": {},
   "outputs": [
    {
     "name": "stdout",
     "output_type": "stream",
     "text": [
      "------------\n",
      "[[6 1 0 3 0]\n",
      " [7 9 3 0 7]\n",
      " [2 5 9 0 9]\n",
      " [0 0 5 2 4]\n",
      " [4 0 0 3 4]]\n",
      "------------\n",
      "Eigenvalues:\n",
      "[ 15.59569018+0.j           4.17689948+3.22337677j   4.17689948-3.22337677j\n",
      "   5.30093599+0.j           0.74957487+0.j        ]\n",
      "Eigenvectors:\n",
      "[[-0.15686128+0.j          0.20452625+0.17243638j  0.20452625-0.17243638j\n",
      "  -0.02082545+0.j          0.49279186+0.j        ]\n",
      " [-0.62161898+0.j         -0.29891736-0.4008638j  -0.29891736+0.4008638j\n",
      "  -0.76299479+0.j         -0.50108866+0.j        ]\n",
      " [-0.69660564+0.j         -0.60941714+0.j         -0.60941714-0.j\n",
      "  -0.25581399+0.j          0.14558441+0.j        ]\n",
      " [-0.29452441+0.j         -0.20992732+0.24858671j -0.20992732-0.24858671j\n",
      "   0.25918437+0.j         -0.69542603+0.j        ]\n",
      " [-0.13030862+0.j          0.44720161-0.03388164j  0.44720161+0.03388164j\n",
      "   0.53365524+0.j          0.03541403+0.j        ]]\n"
     ]
    }
   ],
   "source": [
    "import numpy as np\n",
    "from scipy import linalg as la\n",
    "A = np.random.randint(0, 10, 25).reshape(5, 5)\n",
    "print \"------------\"\n",
    "print A\n",
    "print \"------------\"\n",
    "e_vals, e_vecs = la.eig(A)\n",
    "print \"Eigenvalues:\"\n",
    "print e_vals\n",
    "print \"Eigenvectors:\"\n",
    "print e_vecs"
   ]
  },
  {
   "cell_type": "code",
   "execution_count": 14,
   "metadata": {},
   "outputs": [
    {
     "name": "stdout",
     "output_type": "stream",
     "text": [
      "A:\n",
      "[[3 2]\n",
      " [1 0]]\n",
      "Eigenvalues: [ 3.56155281 -0.56155281]\n",
      "First tuple of eig: [ 3.56155281 -0.56155281]\n",
      "Second tuple of eig:\n",
      "[[ 0.96276969 -0.48963374]\n",
      " [ 0.27032301  0.87192821]]\n",
      "('left:', matrix([[ 3.42895508],\n",
      "        [ 0.96276969]]))\n",
      "('right:', matrix([[ 3.42895508],\n",
      "        [ 0.96276969]]))\n",
      "('left:', matrix([[ 0.2749552 ],\n",
      "        [-0.48963374]]))\n",
      "('right:', matrix([[ 0.2749552 ],\n",
      "        [-0.48963374]]))\n"
     ]
    }
   ],
   "source": [
    "import numpy as np\n",
    "A = np.mat(\"3 2; 1 0\")\n",
    "print \"A:\\n\", A\n",
    "print \"Eigenvalues:\", np.linalg.eigvals(A)\n",
    "eigenvalue, eigenvector = np.linalg.eig(A)\n",
    "print \"First tuple of eig:\", eigenvalue\n",
    "print \"Second tuple of eig:\\n\", eigenvector\n",
    "\n",
    "for i in range(len(eigenvalue)):\n",
    "    print (\"left:\",np.dot(A,eigenvector[:,i]))\n",
    "    print (\"right:\",eigenvalue[i] * eigenvector[:,i])"
   ]
  },
  {
   "cell_type": "markdown",
   "metadata": {
    "collapsed": true
   },
   "source": [
    "# Singular Value Decomposition"
   ]
  },
  {
   "cell_type": "code",
   "execution_count": 1,
   "metadata": {},
   "outputs": [
    {
     "name": "stdout",
     "output_type": "stream",
     "text": [
      "[[5 0]\n",
      " [0 5]]\n"
     ]
    }
   ],
   "source": [
    "import numpy as np\n",
    "A = np.array([(1, -2), (2, 1)])\n",
    "A_trans = A.transpose()\n",
    "print A.dot(A_trans)"
   ]
  },
  {
   "cell_type": "code",
   "execution_count": 5,
   "metadata": {},
   "outputs": [
    {
     "name": "stdout",
     "output_type": "stream",
     "text": [
      "[[0]]\n"
     ]
    }
   ],
   "source": [
    "# Orthogonal matrix\n",
    "# row space each Orthogonal\n",
    "# A = np.array([(1, -2), (2, 1)])\n",
    "import numpy as np\n",
    "A = np.array([(1, -2)])\n",
    "B = np.array([(2, 1)])\n",
    "print A.dot(B.transpose())"
   ]
  },
  {
   "cell_type": "code",
   "execution_count": 6,
   "metadata": {},
   "outputs": [
    {
     "name": "stdout",
     "output_type": "stream",
     "text": [
      "A:\n",
      "[[1 2 3]\n",
      " [4 5 6]]\n",
      "\n",
      "Using SVD:\n",
      "U:\n",
      "[[-0.3863177  -0.92236578]\n",
      " [-0.92236578  0.3863177 ]]\n",
      "sigma:\n",
      "[ 9.508032    0.77286964]\n",
      "VT:\n",
      "[[-0.42866713 -0.56630692 -0.7039467 ]\n",
      " [ 0.80596391  0.11238241 -0.58119908]\n",
      " [ 0.40824829 -0.81649658  0.40824829]]\n",
      "[[ 9.508032    0.          0.        ]\n",
      " [ 0.          0.77286964  0.        ]]\n",
      "-------------------\n",
      "Proof:\n",
      "A:\n",
      "[[ 1.  2.  3.]\n",
      " [ 4.  5.  6.]]\n"
     ]
    }
   ],
   "source": [
    "import numpy as np\n",
    "from numpy import linalg as la\n",
    "A = np.mat([[1,2,3],[4,5,6]])\n",
    "print \"A:\\n\", A\n",
    "U,sigma,VT = la.svd(A)\n",
    "print \"\\nUsing SVD:\"\n",
    "print \"U:\\n\", U\n",
    "print \"sigma:\\n\", sigma\n",
    "print \"VT:\\n\", VT\n",
    "dig_s = np.mat([[9.508032,0,0],[0,0.77286964,0]])\n",
    "print(dig_s)\n",
    "print('-------------------')\n",
    "print('Proof:')\n",
    "print \"A:\\n\", U * dig_s * VT"
   ]
  },
  {
   "cell_type": "markdown",
   "metadata": {},
   "source": [
    "# Pseudoinverse"
   ]
  },
  {
   "cell_type": "code",
   "execution_count": 25,
   "metadata": {},
   "outputs": [
    {
     "name": "stdout",
     "output_type": "stream",
     "text": [
      "E:\n",
      "[[ 4 11 14]\n",
      " [ 8  7 -2]]\n",
      "Pseudoinv:\n",
      "[[-0.00555556  0.07222222]\n",
      " [ 0.02222222  0.04444444]\n",
      " [ 0.05555556 -0.05555556]]\n",
      "E*pseudoinv:\n",
      "[[  1.00000000e+00   8.32667268e-17]\n",
      " [ -1.38777878e-17   1.00000000e+00]]\n"
     ]
    }
   ],
   "source": [
    "import numpy as np\n",
    "E = np.mat(\"4 11 14;8 7 -2\")\n",
    "print \"E:\\n\", E\n",
    "pseudoinv = np.linalg.pinv(E)\n",
    "print \"Pseudoinv:\\n\", pseudoinv\n",
    "\n",
    "print \"E*pseudoinv:\\n\", E * pseudoinv"
   ]
  },
  {
   "cell_type": "markdown",
   "metadata": {},
   "source": [
    "# Determinant"
   ]
  },
  {
   "cell_type": "code",
   "execution_count": 30,
   "metadata": {},
   "outputs": [
    {
     "name": "stdout",
     "output_type": "stream",
     "text": [
      "F:\n",
      "[[3 4]\n",
      " [5 6]]\n",
      "det(F):\n",
      "-2.0\n"
     ]
    }
   ],
   "source": [
    "import numpy as np\n",
    "F = np.mat(\"3 4;5 6\")\n",
    "print \"F:\\n\", F\n",
    "print \"det(F):\\n\", np.linalg.det(F)"
   ]
  },
  {
   "cell_type": "markdown",
   "metadata": {
    "collapsed": true
   },
   "source": [
    "# PCA"
   ]
  },
  {
   "cell_type": "code",
   "execution_count": 1,
   "metadata": {},
   "outputs": [
    {
     "name": "stdout",
     "output_type": "stream",
     "text": [
      "[[-1 -1]\n",
      " [-2 -1]\n",
      " [-3 -2]\n",
      " [ 1  1]\n",
      " [ 2  1]\n",
      " [ 3  2]]\n",
      "[ 0.99244289  0.00755711]\n",
      "[ 6.30061232  0.54980396]\n"
     ]
    }
   ],
   "source": [
    "import numpy as np\n",
    "from sklearn.decomposition import PCA\n",
    "X = np.array([[-1, -1], [-2, -1], [-3, -2], [1, 1], [2, 1], [3, 2]])\n",
    "print(X)\n",
    "pca = PCA(n_components=2)\n",
    "pca.fit(X)\n",
    "print(pca.explained_variance_ratio_)  \n",
    "print(pca.singular_values_) "
   ]
  }
 ],
 "metadata": {
  "kernelspec": {
   "display_name": "Python 2",
   "language": "python",
   "name": "python2"
  },
  "language_info": {
   "codemirror_mode": {
    "name": "ipython",
    "version": 2
   },
   "file_extension": ".py",
   "mimetype": "text/x-python",
   "name": "python",
   "nbconvert_exporter": "python",
   "pygments_lexer": "ipython2",
   "version": "2.7.13"
  }
 },
 "nbformat": 4,
 "nbformat_minor": 2
}
